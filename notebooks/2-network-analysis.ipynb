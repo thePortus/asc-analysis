{
 "cells": [
  {
   "cell_type": "markdown",
   "metadata": {},
   "source": [
    "# Analyzing Witness Networks\n",
    "\n",
    "[David J. Thomas](mailto:dave.a.base@gmail.com), [thePort.us](http://thePort.us)\n",
    "\n",
    "---\n",
    "\n",
    "## This workbook will...\n",
    "\n",
    "* Use the `networkx` module to analyze witnesses in the charters\n",
    "* Calculate network statistics like degree, betweeness centrality, community detection, and more\n",
    "* Export the network with statistics for use elsewhere in programs like Gephi\n",
    "* Visualize the network as a whole and in parts\n",
    "* Attempt to identify major figures at different levels of the network\n",
    "\n",
    "**THIS WORKBOOK IS FUNCTIONAL BUT LACKS MUCH COMMENTARY: A PROEMIUM, MORE FUNCTIONALITY, AND MORE EXPLANATORY MATERIAL TO BE ADDED LATER**\n"
   ]
  },
  {
   "cell_type": "markdown",
   "metadata": {},
   "source": [
    "---\n",
    "\n",
    "## 1) Import Module Dependencies\n",
    "\n",
    "The cell below loads all other Python packages needed. You **must** run this before any other cells."
   ]
  },
  {
   "cell_type": "code",
   "execution_count": null,
   "metadata": {},
   "outputs": [],
   "source": [
    "from IPython.display import display, HTML\n",
    "import networkx as nx\n",
    "import community\n",
    "import matplotlib.pyplot as plt\n",
    "import requests\n",
    "from bs4 import BeautifulSoup\n",
    "\n",
    "print('Dependencies loaded! PROCEED')"
   ]
  },
  {
   "cell_type": "markdown",
   "metadata": {},
   "source": [
    "## 2) Crunch Network Statistics and Export Graph\n",
    "\n",
    "This step will take advantage of networkx's statistical capabilities. Perhaps most importantly, the ability to measure various kinds of [network centralities](https://en.wikipedia.org/wiki/Centrality).\n",
    "\n",
    "**THIS STEP WILL TAKE AWHILE, BE PATIENT**"
   ]
  },
  {
   "cell_type": "code",
   "execution_count": null,
   "metadata": {},
   "outputs": [],
   "source": [
    "print('Reading network file...')\n",
    "witness_network = nx.read_gexf('../data/witness_network.gexf')\n",
    "print('Done!')\n",
    "\n",
    "def crunch_network(network):\n",
    "    print('Crunching various network statistics (takes awhile)...\\n')\n",
    "    results = {\n",
    "        'degree': {}, 'community': {}, 'degree_centrality': {}, 'betweeness_centrality': {},\n",
    "        'eigenvector_centrality': {}, 'closeness_centrality': {}, 'harmonic_centrality': {}\n",
    "    }\n",
    "    # degrees and community\n",
    "    print('Degrees...', end='')\n",
    "    results['degree'] = nx.degree(witness_network)\n",
    "    print(' Done!\\nCommunity detection with best partition...', end='')\n",
    "    results['community'] = community.community_louvain.best_partition(witness_network)\n",
    "    # centralities\n",
    "    print(' Done!\\nDegree centrality...', end='')\n",
    "    results['degree_centrality'] = nx.degree_centrality(witness_network)\n",
    "    print(' Done!\\nBetweeness (shortest-path) centrality...', end='')\n",
    "    results['betweeness_centrality'] = nx.betweenness_centrality(witness_network)\n",
    "    print(' Done!\\nEigenvector centrality...', end='')\n",
    "    results['eigenvector_centrality'] = dict(nx.eigenvector_centrality(witness_network))\n",
    "    print(' Done!\\nCloseness centrality...', end='')\n",
    "    results['closeness_centrality'] = nx.closeness_centrality(witness_network)\n",
    "    print(' Done!\\nHarmonic centrality...', end='')\n",
    "    results['harmonic_centrality'] =  nx.harmonic_centrality(witness_network)\n",
    "    print(' Done!\\n\\nFinished calculating network statistics.')\n",
    "    # now take result dicts and feed them back into nodes as attributes\n",
    "    for attribute_name in results.keys():\n",
    "        attribute_results = results[attribute_name]\n",
    "        for node_id in network.nodes():\n",
    "            new_node_stat = attribute_results[node_id]\n",
    "            network.nodes[node_id][attribute_name] = new_node_stat\n",
    "    return network\n",
    "\n",
    "\n",
    "witness_network = crunch_network(witness_network)\n",
    "print('Exporting network with calculated statistics to export/witness_network.gexf')\n",
    "nx.write_gexf(witness_network, '../data/witness_network.gexf')\n",
    "print('Exported network successfully.')"
   ]
  },
  {
   "cell_type": "markdown",
   "metadata": {},
   "source": [
    "## 5) Visualize Entire Witness Network\n",
    "\n",
    "It's time to finally see some sweet, sweet, payoff! We can use networkx itself to visualize our network and see what's interesting."
   ]
  },
  {
   "cell_type": "code",
   "execution_count": null,
   "metadata": {},
   "outputs": [],
   "source": [
    "def draw_network(network, with_labels=False):\n",
    "    node_size_map = [network.nodes[node]['betweeness_centrality'] * 3000 for node in network.nodes()]\n",
    "    node_color_map = [network.nodes[node]['community'] for node in network.nodes()]\n",
    "    options = {\n",
    "        'node_color': node_color_map,\n",
    "        'node_size': node_size_map,\n",
    "        'width': 0.1,\n",
    "        'alpha': 0.5,\n",
    "        'with_labels': with_labels\n",
    "    }\n",
    "    print('Generating network preview...')\n",
    "    nx.draw(network, pos=nx.spring_layout(network, k=0.05, scale=1), **options)\n",
    "    plt.draw()\n",
    "    return True\n",
    "\n",
    "\n",
    "print('Entire Witness Network')\n",
    "draw_network(witness_network)"
   ]
  },
  {
   "cell_type": "markdown",
   "metadata": {},
   "source": [
    "## 6) Finding Key Figures\n",
    "\n",
    "Now we've seen the entire network. It may look like a big mess (what some network analysts call \"the spaghetti monster\"), but there are some important details that we can tell right away. For starters, *almost* everything is interconnected! There are but a few near-loners separate from the network. This isn't a given. Many networks are split into highly independent and barely connected sub components. Some networks have components that are totally detacted from any other part of the network. This network has none of those features.\n",
    "\n",
    "So, right away we can tell that the world of charters and elite witnesses was highly interconnected and reciprocal. At the same time, we can also tell that the network is not an even mass of jumbled connections. There are subformations within the larger network. Using \"neighborhood detection\", we have colored this network to represent the mathematical \"guess\" at where the boundaries of major subcomponents of the larger network lie. These different neighborhoods often (but not necessarily) loosely relate to meaningful real world distinctions such as political borders. While it isn't an objective or certain determinant of whether one individual is or is not a member of some real group... it can be a quick way at visualizing major groupings within the whole network.\n",
    "\n",
    "To go farther though, we can look at individuals, and chop up the network into subcomponents."
   ]
  },
  {
   "cell_type": "markdown",
   "metadata": {},
   "source": [
    "### 6a) Listing Top People by Attributes\n",
    "\n",
    "Now let's dive into some specific network statistics to give us some \"top\" people in the network and see who we find.\n",
    "\n",
    "We are going to use several measures to study \"centrality,\" the two most important being degree and betweeness. Degree centrality is simple a measure of which nodes (people) have the most connections. In this case, that means which people have the greatest number of connections to others through acts of witnessing. This can be important, but is hardly the only measure.\n",
    "\n",
    "Betweeness centrality, put simply, measures not only how many \"connections\" one has to others... but how many connections those connections have, and so on. Depending on your needs, this is often more meaningful measure of centrality, since having the *most* friends isn't the same as having *important* friends.\n",
    "\n",
    "There are other forms of centrality that we won't get into here, for a more detailed guide check out [this FAQ](https://cambridge-intelligence.com/keylines-faqs-social-network-analysis/)."
   ]
  },
  {
   "cell_type": "code",
   "execution_count": null,
   "metadata": {},
   "outputs": [],
   "source": [
    "def order_nodes_by_attribute(network, attribute_name):\n",
    "    totals = {}\n",
    "    # build a key/val dict from id/val of node\n",
    "    for node in network.nodes():\n",
    "        totals[node] = network.nodes[node][attribute_name]\n",
    "    # sort into ordered list of tuples with id/val and return\n",
    "    return [(key, totals[key]) for key in sorted(totals, key=totals.get, reverse=True)]\n",
    "\n",
    "\n",
    "def print_top_nodes_by_attribute(network, attribute_name, print_name, limit=5):\n",
    "    print('----- {} -----'.format(print_name))\n",
    "    counter = 0\n",
    "    for node_id, val in order_nodes_by_attribute(network, attribute_name)[0:4]:\n",
    "        counter += 1\n",
    "        node_link = network.nodes[node_id]['link']\n",
    "        print('{}.) {}: {}'.format(counter, node_id, node_link, val))\n",
    "\n",
    "\n",
    "attributes_to_print = [\n",
    "    ('degree', 'Degree'),\n",
    "    ('betweeness_centrality', 'Betweeness Centrality'),\n",
    "    ('degree_centrality', 'Degree Centrality'),\n",
    "    ('closeness_centrality', 'Closeness Centrality'),\n",
    "    ('eigenvector_centrality', 'Eigenvector Centrality'),\n",
    "    ('harmonic_centrality', 'Harmonic Centrality')\n",
    "]\n",
    "\n",
    "for attribute_name, print_name in attributes_to_print:\n",
    "    print_top_nodes_by_attribute(witness_network, attribute_name, print_name)\n",
    "    print('')"
   ]
  },
  {
   "cell_type": "markdown",
   "metadata": {},
   "source": [
    "If you got the same results as I did, Wulfred 6 appears to be the individual with the most amount of direct connections to others, followed by Eadwulf 7, Ceolnoth 3, and Alfred 8. These are just the ID numbers tied to these individuals.\n",
    "\n",
    "For betweeness centrality, we have Alfred 8, then Aethelbald 4, Cenwealh 2, and Offa 7.\n",
    "\n",
    "As we will see in a second, the betweeness centrality seems to have been a better judge of who was most important in the network."
   ]
  },
  {
   "cell_type": "markdown",
   "metadata": {},
   "source": [
    "### 6b) Looking into Individuals\n",
    "\n",
    "Now lets look up who those people were that we ran into above. The following bit of code will grab the HTML from the PASE database containing factoids about their lives to give us some biographical info."
   ]
  },
  {
   "cell_type": "code",
   "execution_count": null,
   "metadata": {},
   "outputs": [],
   "source": [
    "def lookup_person(network, node_id):\n",
    "    link = network.nodes[node_id]['link']\n",
    "    pase_content = None\n",
    "    page_html = requests.get(link).text\n",
    "    pase_content = BeautifulSoup(page_html, 'html.parser')\n",
    "    display(HTML(pase_content.get_text()))\n",
    "    return pase_content\n",
    "\n",
    "notable_persons = ['Alfred 8', 'Wulfred 6', 'Eadwulf 7', 'Ceolnoth 3', 'Æthelbald 4', 'Cenwealh 2', 'Offa 7']\n",
    "\n",
    "for notable_person in notable_persons:\n",
    "    print('---', notable_person)\n",
    "    lookup_person(witness_network, notable_person)\n",
    "\n",
    "print('Finished displaying persons')"
   ]
  },
  {
   "cell_type": "markdown",
   "metadata": {},
   "source": [
    "So, looking at the results for degree centrality it places the most important rankings at...\n",
    "\n",
    "1. Wulfred, Archbishop of Canterbury \n",
    "2. Eadwulf, Bishop of Lindsay\n",
    "3. Ceolnoth, Archbishop of Canterbury\n",
    "4. Alfred the Great, Most Famous King of Wessex\n",
    "\n",
    "Which isn't bad. Certainly these are all important individuals. But Alfred isn't the most important, nor are many other critical individuals. But when we use betweeness centrality the results we get are...\n",
    "\n",
    "1. Alfred the Great, Most Famous King of Wessex\n",
    "2. Aethelbald, King of Mercia\n",
    "3. Cenwealh, King of Wessex\n",
    "4. Offa, King of Mercia\n",
    "\n",
    "Now, it is *critical* to understand that this measure isn't any more *correct* than degree centrality. They merely each highly different aspects. But, it does seem that this one has locked on pretty hard to individuals we know to be the most important figures of their day.\n",
    "\n",
    "While this means they we haven't \"learned\" anything new yet... it is an excellent confirmation that this technique works and has amazing potential for exploring historical networks!"
   ]
  },
  {
   "cell_type": "markdown",
   "metadata": {},
   "source": [
    "### 7) Looking into Sub-Communities\n",
    "\n",
    "Where we can learn more, and make things more interesting, is by zooming in and chopping up the network.\n",
    "\n",
    "In the following steps, we are going to separate two \"neighborhoods\" of the network and examine each on its own as an independent network. This difference in scale will allow us to see how some individuals operate differently at \"local\" vrs \"global\" levels.\n",
    "\n",
    "The following two cells take the communities of Alfred the Great and Offa of Mercia, separate them, run network analysis statistics on them again, and tell us who them most important nodes are in the *new* network"
   ]
  },
  {
   "cell_type": "code",
   "execution_count": null,
   "metadata": {},
   "outputs": [],
   "source": [
    "def get_community(network, community_num):\n",
    "    \"\"\"Returns a new network with only nodes/edges from a specified community\"\"\"\n",
    "    non_community_nodes = []\n",
    "    # perform full copy of network\n",
    "    subnetwork = network.copy()\n",
    "    # identify only the nodes to be keps\n",
    "    for node_id in subnetwork.nodes():\n",
    "        if subnetwork.nodes[node_id]['community'] != community_num:\n",
    "            non_community_nodes.append(node_id)\n",
    "    subnetwork.remove_nodes_from(non_community_nodes)\n",
    "    # make new subgraph with select nodes and crunch new stats\n",
    "    return crunch_network(subnetwork)\n",
    "\n",
    "\n",
    "print('Alfred the Great')\n",
    "alfred_community = get_community(witness_network, witness_network.nodes['Alfred 8']['community'])\n",
    "draw_network(alfred_community)\n",
    "\n",
    "for attribute_name, print_name in attributes_to_print:\n",
    "    print_top_nodes_by_attribute(alfred_community, attribute_name, print_name)\n",
    "    print('')"
   ]
  },
  {
   "cell_type": "code",
   "execution_count": null,
   "metadata": {},
   "outputs": [],
   "source": [
    "print('Offa of Mercia')\n",
    "offa_community = get_community(witness_network, witness_network.nodes['Offa 7']['community'])\n",
    "draw_network(offa_community, with_labels=True)\n",
    "\n",
    "for attribute_name, print_name in attributes_to_print:\n",
    "    print_top_nodes_by_attribute(offa_community, attribute_name, print_name)\n",
    "    print('')"
   ]
  },
  {
   "cell_type": "markdown",
   "metadata": {},
   "source": [
    "We can see that in his own neighborhood, Alfred still is not the most central in terms of degrees, yet his betweeness centrality is the highest. Meanwhile Offa is both degree and betweeness centrality leader in his neighborhood. Offa's characteristics show he has a much more directly local influence. Alfred's connections, meanwhile, appear to be more exogenous (going outside the neighborhood).\n",
    "\n",
    "This is just the start. Chopping up and analyzing the network is where real analysis starts to happen. I hope I've shown you the power of network analysis for exploring historical networks!"
   ]
  },
  {
   "cell_type": "code",
   "execution_count": null,
   "metadata": {},
   "outputs": [],
   "source": []
  }
 ],
 "metadata": {
  "kernelspec": {
   "display_name": "Python 3 (ipykernel)",
   "language": "python",
   "name": "python3"
  },
  "language_info": {
   "codemirror_mode": {
    "name": "ipython",
    "version": 3
   },
   "file_extension": ".py",
   "mimetype": "text/x-python",
   "name": "python",
   "nbconvert_exporter": "python",
   "pygments_lexer": "ipython3",
   "version": "3.9.14"
  }
 },
 "nbformat": 4,
 "nbformat_minor": 4
}
