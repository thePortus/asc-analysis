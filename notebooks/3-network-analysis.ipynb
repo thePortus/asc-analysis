{
 "cells": [
  {
   "cell_type": "markdown",
   "metadata": {},
   "source": [
    "# Analyzing Personal and Textual Networks\n",
    "\n",
    "[David J. Thomas](mailto:dave.a.base@gmail.com), [thePortus.com](http://thePortus.com)<br />\n",
    "Instructor of Ancient History and Digital Humanities,<br />\n",
    "Department of History,<br />\n",
    "[University of South Florida](https://github.com/usf-portal)\n",
    "\n",
    "---\n",
    "\n",
    "## This workbook will...\n",
    "\n",
    "* Use the `networkx` module to make different network graphs...\n",
    "    * People co-appearing as witnesses in the same charters\n",
    "    * Charters who share the same witness(es)\n",
    "* Draw a quick preview of the networks\n",
    "* Calculate several network statistics"
   ]
  },
  {
   "cell_type": "markdown",
   "metadata": {},
   "source": [
    "---\n",
    "\n",
    "## 1) Import Module Dependencies\n",
    "\n",
    "The cell below loads all other Python packages needed. You **must** run this before any other cells."
   ]
  },
  {
   "cell_type": "code",
   "execution_count": 1,
   "metadata": {},
   "outputs": [],
   "source": [
    "import sqlalchemy as sql\n",
    "from sqlalchemy.ext.declarative import declarative_base\n",
    "from sqlalchemy.orm import sessionmaker\n",
    "import networkx as nx\n",
    "import matplotlib.pyplot as plt"
   ]
  },
  {
   "cell_type": "markdown",
   "metadata": {},
   "source": [
    "## 2) (Re)declare Database Models"
   ]
  },
  {
   "cell_type": "code",
   "execution_count": 2,
   "metadata": {},
   "outputs": [
    {
     "name": "stdout",
     "output_type": "stream",
     "text": [
      "Database Configured Successfully\n"
     ]
    }
   ],
   "source": [
    "engine = sql.create_engine('sqlite:///charters.db', echo=False)\n",
    "Base = declarative_base()\n",
    "    \n",
    "\n",
    "class Charter(Base):\n",
    "    __tablename__ = 'charters'\n",
    "\n",
    "    id = sql.Column(sql.String, primary_key=True)\n",
    "    description = sql.Column(sql.String)\n",
    "    sawyer = sql.Column(sql.Integer)\n",
    "    birch = sql.Column(sql.Integer)\n",
    "    kemble = sql.Column(sql.Integer)\n",
    "    british_academy = sql.Column(sql.String)\n",
    "    source_used = sql.Column(sql.String)\n",
    "    archive = sql.Column(sql.String)\n",
    "    language = sql.Column(sql.String)\n",
    "    date = sql.Column(sql.Integer)\n",
    "    scholarly_date = sql.Column(sql.String)\n",
    "    scholarly_date_low = sql.Column(sql.Integer)\n",
    "    scholarly_date_high = sql.Column(sql.Integer)\n",
    "    scholarly_date_avg = sql.Column(sql.Float)\n",
    "    text = sql.Column(sql.Text)\n",
    "    notes = sql.Column(sql.Text)\n",
    "    asc_source = sql.Column(sql.String)\n",
    "    pase_source = sql.Column(sql.String)\n",
    "    pase_witnesses = sql.Column(sql.String)\n",
    "    \n",
    "    witnesses = sql.orm.relationship('Person', secondary='charter_witnesses', back_populates='charters')\n",
    "    \n",
    "    @property\n",
    "    def record(self):\n",
    "        \"\"\"Gets entry data in dictionary format.\"\"\"\n",
    "        return {\n",
    "            'id': self.id,\n",
    "            'label': self.id,\n",
    "            'sawyer': self.sawyer,\n",
    "            'birch': self.birch,\n",
    "            'kemble': self.kemble,\n",
    "            'british_academy': self.british_academy,\n",
    "            'source_used': self.source_used,\n",
    "            'archive': self.archive,\n",
    "            'language': self.language,\n",
    "            'date': self.date,\n",
    "            'scholarly_date': self.scholarly_date,\n",
    "            'scholarly_date_low': self.scholarly_date_low,\n",
    "            'scholarly_date_high': self.scholarly_date_high,\n",
    "            'scholarly_date_avg': self.scholarly_date_avg,\n",
    "            'text': self.text,\n",
    "            'notes': self.notes,\n",
    "            'asc_source': self.asc_source,\n",
    "            'pase_source': self.pase_source,\n",
    "            'pase_witnesses': self.pase_witnesses\n",
    "        }\n",
    "    \n",
    "    def num_common_witnesses(self, other_charter):\n",
    "        \"\"\"Checks self and other_charter for the number of witnesses that appear in both charters.\"\"\"\n",
    "        total_counter = 0\n",
    "        for witness in self.witnesses:\n",
    "            for other_witness in other_person.witnesses:\n",
    "                if witness.id == other_witness.id:\n",
    "                    total_counter += 1\n",
    "        return total_counter\n",
    "                    \n",
    "    \n",
    "class Person(Base):\n",
    "    __tablename__ = 'people'\n",
    "    \n",
    "    id = sql.Column(sql.String, primary_key=True)\n",
    "    description = sql.Column(sql.String)\n",
    "    link = sql.Column(sql.String)\n",
    "    \n",
    "    charters = sql.orm.relationship('Charter', secondary='charter_witnesses', back_populates='witnesses')\n",
    "    \n",
    "    @property\n",
    "    def record(self):\n",
    "        \"\"\"Gets entry data in dictionary format.\"\"\"\n",
    "        return {\n",
    "            'id': self.id,\n",
    "            'label': self.id + ': ' + self.description,\n",
    "            'link': self.link\n",
    "        }\n",
    "    \n",
    "    @property\n",
    "    def earliest_appearance(self):\n",
    "        \"\"\"Returns the date of the earliest charter features said person.\"\"\"\n",
    "        earliest_charter = None\n",
    "        for charter in self.charters:\n",
    "            if not earliest_charter:\n",
    "                earliest_charter = charter.scholarly_date_avg\n",
    "            else:\n",
    "                if charter.scholarly_date_avg < earliest_charter:\n",
    "                    earliest_charter = charter.scholarly_date_avg\n",
    "        return earliest_charter\n",
    "    \n",
    "    def num_coappearances(self, other_person):\n",
    "        \"\"\"Checks the number of times this person appears in the same charters as other_person\"\"\"\n",
    "        total_counter = 0\n",
    "        for charter in self.charters:\n",
    "            for other_charter in other_person.charters:\n",
    "                if charter.id == other_charter.id:\n",
    "                    total_counter += 1\n",
    "        return total_counter\n",
    "\n",
    "    \n",
    "class CharterWitness(Base):\n",
    "    __tablename__ = 'charter_witnesses'\n",
    "    charter_id = sql.Column(sql.String, sql.ForeignKey('charters.id'), primary_key=True) \n",
    "    person_id = sql.Column(sql.String, sql.ForeignKey('people.id'), primary_key=True)\n",
    "    role = sql.Column(sql.String)\n",
    "    link = sql.Column(sql.String)\n",
    "    \n",
    "    @property\n",
    "    def record(self):\n",
    "        \"\"\"Gets entry data in dictionary format.\"\"\"\n",
    "        return {\n",
    "            'charter_id': self.charter_id,\n",
    "            'person_id': self.person_id,\n",
    "            'label': self.role,\n",
    "            'link': self.link\n",
    "        }\n",
    "\n",
    "\n",
    "print('Database Configured Successfully')"
   ]
  },
  {
   "cell_type": "markdown",
   "metadata": {},
   "source": [
    "# 3) Build Co-Appearing Witness Graph"
   ]
  },
  {
   "cell_type": "code",
   "execution_count": 6,
   "metadata": {},
   "outputs": [
    {
     "name": "stdout",
     "output_type": "stream",
     "text": [
      "Building network graph.................................................................................................\n",
      "\n",
      "Finished.\n"
     ]
    }
   ],
   "source": [
    "# first we need to open a session with the local database, get every witness, then close the connection\n",
    "session = sessionmaker(bind=engine)()\n",
    "witnesses = session.query(Person)\n",
    "session.close()\n",
    "\n",
    "print('Building network graph...', end='')\n",
    "# create an empty networkx graph\n",
    "witness_network = nx.Graph(\n",
    "    label='',\n",
    "    link=None,\n",
    "    weight=1,\n",
    "    type='Undirected',\n",
    "    label_propagation_community=None,\n",
    "    asyn_lpa_community=None,\n",
    "    greedy_color=None,\n",
    "    degree=0,\n",
    "    triangles=0,\n",
    "    clustering=0,\n",
    "    avg_clustering=0,\n",
    "    square_clustering=0,\n",
    "    degree_centrality=0,\n",
    "    betweeness_centrality=0,\n",
    "    eigenvector_centrality=0,\n",
    "    closeness_centrality=0,\n",
    "    harmonic_centrality=0,\n",
    ")\n",
    "\n",
    "# populate the nodes with each witness record\n",
    "for person in witnesses:\n",
    "    witness_network.add_node(person.id, **person.record)\n",
    "\n",
    "counter = 0\n",
    "# to build edges, we need to compare every witness against each other for the number of times they appear\n",
    "for index, person in enumerate(witnesses):\n",
    "    for other_person in witnesses[index + 1:]:\n",
    "        counter += 1\n",
    "        if counter % 20000 == 0:\n",
    "            print('.', end='')\n",
    "        num_coappearances = person.num_coappearances(other_person)\n",
    "        # only add an edge if they actually appeared together\n",
    "        if num_coappearances > 0:\n",
    "            witness_network.add_edge(\n",
    "                person.id,\n",
    "                other_person.id,\n",
    "                label='{} -> {}'.format(person.id, other_person.id),\n",
    "                weight=person.num_coappearances(other_person),\n",
    "                type='Undirected'\n",
    "            )\n",
    "\n",
    "print('\\n\\nFinished.')"
   ]
  },
  {
   "cell_type": "markdown",
   "metadata": {},
   "source": [
    "# 4) Analyzing Witness Network Graph"
   ]
  },
  {
   "cell_type": "markdown",
   "metadata": {},
   "source": [
    "### 4a) Define Function to Merge Results and Make a Placeholder"
   ]
  },
  {
   "cell_type": "code",
   "execution_count": 7,
   "metadata": {},
   "outputs": [
    {
     "name": "stdout",
     "output_type": "stream",
     "text": [
      "Finished declaring function and placeholder.\n"
     ]
    }
   ],
   "source": [
    "def merge_network_stats(network, result_set, attribute_name):\n",
    "    \"\"\"Copys results of a network calculation into a network under desired attribute name.\"\"\"\n",
    "    # loop through keywords in result set\n",
    "    for node_id in network.nodes():\n",
    "        new_node_stat = result_set[node_id]\n",
    "        network.nodes[node_id][attribute_name] = new_node_stat\n",
    "    return network\n",
    "\n",
    "results = {\n",
    "    'greedy_color': {},\n",
    "    'degree': {},\n",
    "    'triangles': {},\n",
    "    'clustering': {},\n",
    "    'square_clustering': {},\n",
    "    'label_propagation_community': {},\n",
    "    'k_clique_communities': {},\n",
    "    'degree_centrality': {},\n",
    "    'betweeness_centrality': {},\n",
    "    'eigenvectory_centrality': {},\n",
    "    'closeness_centrality': {},\n",
    "    'harmonic_centrality': {}\n",
    "}\n",
    "\n",
    "print('Finished declaring function and placeholder.')"
   ]
  },
  {
   "cell_type": "markdown",
   "metadata": {},
   "source": [
    "### 4b) Basic Stats"
   ]
  },
  {
   "cell_type": "code",
   "execution_count": 8,
   "metadata": {},
   "outputs": [
    {
     "name": "stdout",
     "output_type": "stream",
     "text": [
      "Greedy coloring... Done!\n",
      "Degrees... Done!\n",
      "\n",
      "Finished calculating basic statistics\n"
     ]
    }
   ],
   "source": [
    "print('Greedy coloring...', end='')\n",
    "results['color'] = nx.greedy_color(witness_network)\n",
    "\n",
    "print(' Done!\\nDegrees...', end='')\n",
    "results['degree'] = nx.degree(witness_network)\n",
    "\n",
    "print(' Done!\\n\\nFinished calculating basic statistics')"
   ]
  },
  {
   "cell_type": "markdown",
   "metadata": {},
   "source": [
    "### 4c) Clustering"
   ]
  },
  {
   "cell_type": "code",
   "execution_count": 9,
   "metadata": {},
   "outputs": [
    {
     "name": "stdout",
     "output_type": "stream",
     "text": [
      "Number of triangles... Done!\n",
      "Clustering Coefficient... Done!\n",
      "Square Clustering Coefficient... Done!\n",
      "\n",
      "Finished calculating clustering statistics.\n"
     ]
    }
   ],
   "source": [
    "print('Number of triangles...', end='')\n",
    "results['triangles'] = nx.triangles(witness_network)\n",
    "print(' Done!\\nClustering Coefficient...', end='')\n",
    "results['clustering'] = nx.triangles(witness_network)\n",
    "results['avg_clustering'] = nx.average_clustering(witness_network)\n",
    "print(' Done!\\nSquare Clustering Coefficient...', end='')\n",
    "results['square_clustering'] = nx.square_clustering(witness_network)\n",
    "print(' Done!\\n\\nFinished calculating clustering statistics.')"
   ]
  },
  {
   "cell_type": "markdown",
   "metadata": {},
   "source": [
    "### 4d) Communities"
   ]
  },
  {
   "cell_type": "code",
   "execution_count": 10,
   "metadata": {},
   "outputs": [
    {
     "name": "stdout",
     "output_type": "stream",
     "text": [
      "Community detection with label propagation... Done!\n",
      "\n",
      "Finished calculating communities.\n"
     ]
    }
   ],
   "source": [
    "def convert_community_stats(result_set):\n",
    "    converted_results = {}\n",
    "    counter = 0\n",
    "    for community in result_set:\n",
    "        counter += 1\n",
    "        for node in community:\n",
    "            converted_results[node] = counter\n",
    "    return converted_results\n",
    "\n",
    "\n",
    "print('Community detection with label propagation...', end='')\n",
    "results['label_propagation_community'] = convert_community_stats(\n",
    "    nx.algorithms.community.label_propagation.label_propagation_communities(witness_network)\n",
    ")\n",
    "\n",
    "print(' Done!\\n\\nFinished calculating communities.')"
   ]
  },
  {
   "cell_type": "markdown",
   "metadata": {},
   "source": [
    "### 4e) Centralities"
   ]
  },
  {
   "cell_type": "code",
   "execution_count": 11,
   "metadata": {},
   "outputs": [
    {
     "name": "stdout",
     "output_type": "stream",
     "text": [
      "Degree centrality... Done!\n",
      "Betweeness (shortest-path) centrality... Done!\n",
      "Eigenvector centrality... Done!\n",
      "Closeness centrality... Done!\n",
      "Harmonic centrality... Done!\n",
      "\n",
      "Finished calculated centralities.\n"
     ]
    }
   ],
   "source": [
    "# centralities\n",
    "print('Degree centrality...', end='')\n",
    "results['degree_centrality'] = nx.degree_centrality(witness_network)\n",
    "print(' Done!\\nBetweeness (shortest-path) centrality...', end='')\n",
    "results['betweeness_centrality'] = nx.betweenness_centrality(witness_network)\n",
    "print(' Done!\\nEigenvector centrality...', end='')\n",
    "results['eigenvector_centrality'] = nx.eigenvector_centrality(witness_network)\n",
    "print(' Done!\\nCloseness centrality...', end='')\n",
    "results['closeness_centrality'] = nx.closeness_centrality(witness_network)\n",
    "print(' Done!\\nHarmonic centrality...', end='')\n",
    "results['harmonic_centrality'] =  nx.harmonic_centrality(witness_network)\n",
    "\n",
    "print(' Done!\\n\\nFinished calculated centralities.')"
   ]
  },
  {
   "cell_type": "markdown",
   "metadata": {},
   "source": [
    "### 4f) Merge Stats Back Into Network as Node Attributes"
   ]
  },
  {
   "cell_type": "code",
   "execution_count": 13,
   "metadata": {},
   "outputs": [
    {
     "name": "stdout",
     "output_type": "stream",
     "text": [
      "Finished, network populated with calculated statistics.\n"
     ]
    }
   ],
   "source": [
    "def merge_stats(network, result_set, attribute_list):\n",
    "    \"\"\"Add each stat result set into the network under a node attribute.\"\"\"\n",
    "    for attribute_name in attribute_list:\n",
    "        network = merge_network_stats(network, results[attribute_name], attribute_name)\n",
    "    return network\n",
    "\n",
    "stat_attribute_list = [\n",
    "    'color', 'degree', 'triangles', 'clustering', 'square_clustering', 'label_propagation_community',\n",
    "    'degree_centrality', 'betweeness_centrality', 'eigenvector_centrality', 'closeness_centrality',\n",
    "    'harmonic_centrality'\n",
    "]\n",
    "\n",
    "witness_network = merge_stats(witness_network, results, stat_attribute_list)\n",
    "\n",
    "print('Finished, network populated with calculated statistics.')"
   ]
  },
  {
   "cell_type": "markdown",
   "metadata": {},
   "source": [
    "## 5) Visualize Witness Network"
   ]
  },
  {
   "cell_type": "code",
   "execution_count": 19,
   "metadata": {},
   "outputs": [
    {
     "name": "stdout",
     "output_type": "stream",
     "text": [
      "Generating network preview...\n",
      "Preview generated.\n"
     ]
    },
    {
     "data": {
      "image/png": "[encoded data removed]",
      "text/plain": [
       "<Figure size 432x288 with 1 Axes>"
      ]
     },
     "metadata": {},
     "output_type": "display_data"
    }
   ],
   "source": [
    "options = {\n",
    "    'node_color': 'blue',\n",
    "    'node_size': 15,\n",
    "    'width': 1,\n",
    "    'alpha': 0.5\n",
    "}\n",
    "\n",
    "print('Generating network preview...')\n",
    "nx.draw(witness_network, pos=nx.spring_layout(witness_network), **options)\n",
    "plt.draw()\n",
    "print('Preview generated.')"
   ]
  },
  {
   "cell_type": "markdown",
   "metadata": {},
   "source": [
    "## 6) Export Witness Network to File"
   ]
  },
  {
   "cell_type": "code",
   "execution_count": null,
   "metadata": {},
   "outputs": [
    {
     "name": "stdout",
     "output_type": "stream",
     "text": [
      "Exporting witness network as GEXF (.gexf) network graph file\n"
     ]
    }
   ],
   "source": [
    "print('Exporting witness network as GEXF (.gexf) network graph file')\n",
    "nx.write_gexf(witness_network, '../export/witness_network.gexf')\n",
    "print('Network statistics successfully saved in the export folder, open in Gephi or other network tool.')"
   ]
  },
  {
   "cell_type": "code",
   "execution_count": null,
   "metadata": {},
   "outputs": [],
   "source": []
  }
 ],
 "metadata": {
  "kernelspec": {
   "display_name": "Python 3",
   "language": "python",
   "name": "python3"
  },
  "language_info": {
   "codemirror_mode": {
    "name": "ipython",
    "version": 3
   },
   "file_extension": ".py",
   "mimetype": "text/x-python",
   "name": "python",
   "nbconvert_exporter": "python",
   "pygments_lexer": "ipython3",
   "version": "3.6.1"
  }
 },
 "nbformat": 4,
 "nbformat_minor": 2
}
